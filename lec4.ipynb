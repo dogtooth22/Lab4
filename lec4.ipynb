{
 "cells": [
  {
   "cell_type": "markdown",
   "metadata": {
    "id": "Yn7HCrFWFMdz"
   },
   "source": [
    "# Informe LEC 4 - Estadística Computacional 2021-1 - Paralelo 01"
   ]
  },
  {
   "cell_type": "markdown",
   "metadata": {
    "id": "aMJ9_rVVFMd2"
   },
   "source": [
    "## Integrantes:\n",
    "* Renato Burgos - 201973021-5\n",
    "* Bruno Liberona - 201973013-4\n",
    "* Bastián Rámila - 201973003-7"
   ]
  },
  {
   "cell_type": "markdown",
   "metadata": {
    "id": "6Mk0hU1UFMd2"
   },
   "source": [
    "## ***¡Se deben importar las siguientes librerías con tal de que las secciones de códigos funcionen!***"
   ]
  },
  {
   "cell_type": "code",
   "execution_count": 8,
   "metadata": {
    "colab": {
     "base_uri": "https://localhost:8080/"
    },
    "id": "Jp0Ackm5FMd3",
    "outputId": "e4ea365e-569f-444e-ffdc-e72366598b94"
   },
   "outputs": [],
   "source": [
    "import numpy as np\r\n",
    "import matplotlib.pyplot as plt\r\n",
    "import scipy.stats as sp\r\n",
    "import random\r\n",
    "import statsmodels.api as sm\r\n",
    "from scipy.special import gamma"
   ]
  },
  {
   "cell_type": "markdown",
   "metadata": {
    "id": "1UWFIbAQFMd3"
   },
   "source": [
    "## Ítem 1: _Distribución de la media muestral_"
   ]
  },
  {
   "cell_type": "markdown",
   "metadata": {
    "id": "7y1G1qFyFMd4"
   },
   "source": [
    "El tiempo que una persona demora en leer el libro \"Don Quijote de la Mancha\" es una variable aleatoria que sigue una distribución normal con promedio 21.72 horas y desviación estándar 2.3 horas."
   ]
  },
  {
   "cell_type": "markdown",
   "metadata": {
    "id": "zhS8YGQbFMd4"
   },
   "source": [
    "#### ***a)*** Sea $\\overline{X}$ la media de una muestra aleatoria de tamaño $n = 20$ de tiempos de lecturas de este libro. ¿Cuál es en teoría la esperanza de $\\overline{X}$ y la desviación estándar de $\\overline{X}$?\r\n",
    "\r\n",
    "Al tratarse de una distribución normal, la esperanza de las medias es la misma media de los $n$ datos. Mientras que la desviación estándar se obtiene a partir de la misma desviación estándar de los $n$ datos pero dividida en la raíz cuadrada del número de datos. Una forma de corroborar esto es conociendo la varianza, equivalente a la desviación estándar al cuadrado dividido por el número $n$. Con esto se obtiene la varianza de $\\overline{X}$, pero para calcular la desviación estándar se le debe sacar la raíz cuadrada.\r\n",
    "\r\n",
    "### $ E(\\overline{X}) = \\overline{X} = 21.72$ \r\n",
    "\r\n",
    "### $ V(\\overline{X}) = \\frac{\\sigma^2}{n} = \\frac{5.29}{20} = 0.2645 \\Longrightarrow \\hat{\\sigma} = \\sqrt{V[\\overline{X}]} = 0.514$"
   ]
  },
  {
   "cell_type": "markdown",
   "metadata": {
    "id": "ZTrZYjYlFMd6"
   },
   "source": [
    "#### ***b)*** Para comprobar los valores de a), obtenga $10^5$ muestras aleatorias de tamaño 20, luego obtenga la media de cada muestra. Calcule la media y la desviación estándar de la muestra de medias que obtuvo. ¿Se esperaba estos valores? Comente."
   ]
  },
  {
   "cell_type": "code",
   "execution_count": 9,
   "metadata": {},
   "outputs": [
    {
     "name": "stdout",
     "output_type": "stream",
     "text": [
      "21.72227383829924\n",
      "0.5131627555014161\n"
     ]
    }
   ],
   "source": [
    "def lanzamientos(n):\r\n",
    "    medias = []\r\n",
    "    for i in range(100000):\r\n",
    "        muestras = np.random.normal(21.72, 2.3, n)\r\n",
    "        medias.append(np.mean(muestras))\r\n",
    "    return medias\r\n",
    "\r\n",
    "muestras20 = lanzamientos(20)\r\n",
    "print(np.mean(muestras20))\r\n",
    "print(np.std(muestras20))"
   ]
  },
  {
   "cell_type": "markdown",
   "metadata": {
    "id": "ybmL9RNBFMd8"
   },
   "source": [
    "#### ***c)*** Repita el proceso de b), pero ahora para un tamaño de muestra aleatoria de $n = 40$ en vez de $n = 20$. Contraste en un solo gráfico la distribución de la muestra de medias obtenido en b) versus la muestra obtenida ahora. Comente lo observado."
   ]
  },
  {
   "cell_type": "code",
   "execution_count": 11,
   "metadata": {},
   "outputs": [
    {
     "ename": "IndentationError",
     "evalue": "unindent does not match any outer indentation level (<tokenize>, line 3)",
     "output_type": "error",
     "traceback": [
      "\u001b[0;36m  File \u001b[0;32m\"<tokenize>\"\u001b[0;36m, line \u001b[0;32m3\u001b[0m\n\u001b[0;31m    x = np.linspace(20, 30, 10')\u001b[0m\n\u001b[0m    ^\u001b[0m\n\u001b[0;31mIndentationError\u001b[0m\u001b[0;31m:\u001b[0m unindent does not match any outer indentation level\n"
     ]
    }
   ],
   "source": [
    "def graficos():\r\n",
    "    muestras40 = lanzamientos(40)      x = np.linspace(20, 30, 10')\r\n",
    "    plt.hist(muestras40, bins = round((max(muestras40) - min(muestras40))/((2*(np.percentile(muestras40, 75) - np.percentile(muestras40,25)))/10)), density = True, alpha=0.5, label='n = 40')\r\n",
    "    plt.legend(loc='upper right')\r\n",
    "    plt.show()\r\n",
    "    plt.clf()\r\n",
    "graficos()"
   ]
  },
  {
   "cell_type": "markdown",
   "metadata": {
    "id": "b7SKiAuRFMd8"
   },
   "source": [
    "#### ***d)*** ¿Cuál es la probabilidad de que el tiempo medio de lectura sea mayor a 24 horas cuando $n = 2$?"
   ]
  },
  {
   "cell_type": "markdown",
   "metadata": {
    "id": "DiiGJNCnFMd9"
   },
   "source": [
    "#### ***e)*** Presente conclusiones."
   ]
  },
  {
   "cell_type": "markdown",
   "metadata": {
    "id": "dkV81_hHFMd-"
   },
   "source": [
    "## Ítem 2: _Intervalos de confianza_"
   ]
  },
  {
   "cell_type": "markdown",
   "metadata": {
    "id": "i4RxS9L0FMd-"
   },
   "source": [
    "Se está estudiando la calidad del agua de grifo de cierta localidad. Para esto se tomaron muestras aleatorias del TDS del agua de las casas de esta zona. El TDS es el porcentaje de residuo seco que engloba sales inorgánicas y pequeñas cantidades de materia orgánica disueltas en el agua. Sus principales constituyentes son los cationes de calcio, magnesio, sodio y potasio; y los aniones de carbonato, bicarbonato, cloro, sulfato y nitrato. Este se mide en mg/l. Supongo que la distribución del TDS del agua para esta localidad es una normal con una desviación estándar de 30 mg/l."
   ]
  },
  {
   "cell_type": "markdown",
   "metadata": {
    "id": "bFiRy1SbFMd-"
   },
   "source": [
    "#### ***a)*** Calcule un intervalo de confianza de 95% para el TDS promedio si el promedio en una muestra de tamaño 30 fue de 475 mg/l."
   ]
  },
  {
   "cell_type": "markdown",
   "metadata": {
    "id": "Q9zatIuHFMd_"
   },
   "source": [
    "#### ***b)*** Calcule un intervalo de confianza de 90% para el TDS promedio si el promedio en una muestra de tamaño 20 fue de 475 mg/l."
   ]
  },
  {
   "cell_type": "markdown",
   "metadata": {
    "id": "FjDcPELjFMd_"
   },
   "source": [
    "#### ***c)*** ¿De qué tamaño debe ser una muestra si se quiere que el ancho del intervalo de 95% de confianza sea de 1 mg/l?"
   ]
  },
  {
   "cell_type": "markdown",
   "metadata": {
    "id": "4ESV4AdWFMd_"
   },
   "source": [
    "#### ***d)*** Como experimento, obtenga $10^5$ muestras aleatorias de tamaño 20 a partir de una distribución normal, con la desviación estándar mencionada previamente y una media poblacional $\\mu - 500$. Para cada una de estas calcule el intervalo de confianza del 95% para su media muestral. ¿Qué porcentaje de estos intervalos inculye la media real de la población?"
   ]
  },
  {
   "cell_type": "markdown",
   "metadata": {
    "id": "nKMHTxnSFMd_"
   },
   "source": [
    "#### ***e)*** ¿Cree que cambiaría este porcentaje si aumenta el tamaño de las muestras? Argumente."
   ]
  },
  {
   "cell_type": "markdown",
   "metadata": {},
   "source": [
    "Ahora suponga que también se está estudiando el consumo de agua de las personas de sta localidad. Se desea calcular la proporción de hogares que consumen agua embotellada en vez de agua de la llave."
   ]
  },
  {
   "cell_type": "markdown",
   "metadata": {
    "id": "-IFl8OffFMeA"
   },
   "source": [
    "#### ***a)*** Luego de encuestar a 20 hogares se calculó que el porcentaje de consumo de agua embotellada es del 65%. Obtenga el intervalo del 95% de confianza para la proporción de la población."
   ]
  },
  {
   "cell_type": "markdown",
   "metadata": {
    "id": "cXOXOdGvqtX7"
   },
   "source": [
    "#### ***b)*** ¿Qué método o fórmula utilizó para calcular los límites del IC? ¿Por qué el intervalo de confianza de la proporción no se calcula igual al calculado en a) y b)?"
   ]
  },
  {
   "cell_type": "markdown",
   "metadata": {},
   "source": [
    "#### ***c)*** Presente conclusiones."
   ]
  },
  {
   "cell_type": "markdown",
   "metadata": {
    "id": "tVUYHUVEFMeA"
   },
   "source": [
    "## Ítem 3: _Estimación de parámetros usando máxima verosimilitud_"
   ]
  },
  {
   "cell_type": "markdown",
   "metadata": {
    "id": "wG6zDhMmFMeA"
   },
   "source": [
    "La estimación de parámetros usando máxima verosimilitud se usa para determinar los parámetros de una distribución de probabilidad basándose en muestras. Suponga que se observan los valores $X_1, X_2, ..., X_n$ de $n$ variables aleatorias iid. El objetivo del método es estimar los parámetros de la distribución $(\\theta)$ a partir de los valores observados. La función de verosimilitud $L(\\theta) = P(X_1, ..., X_n|\\theta)$ nos indica cuál es la probabilidad de que se observen esos valores para cierto parámetro $\\theta$. Esta función se define como $L(\\theta|X) = \t \\prod_{i=1}^n f(x_i, \\theta)$. El método consiste en buscar el parámetro $\\theta$ que maximice ésta función.\r\n",
    "\r\n",
    "Usualmente se hace más sencillo trabajar con la función de log-verosimilitud $\\ell(\\theta)$ = log $L(\\theta)$, debido a que el logaritmo es una función que preserva el orden.\r\n",
    "\r\n",
    "Ahora para implementar este método, suponga que la muestra $X_1, X_2, ..., X_n$ proviene de una distribución exponencial con parámetro $\\lambda$. Sabemos que la función de densidad de esta distribución viene dada por:\r\n",
    "\r\n",
    "$ f(x; \\lambda) = \\begin{cases} \\lambda e^{- \\lambda x} &x \\geq 0 \\\\ \\text{0} & \\text{de lo contrario} \\\\ \\end{cases}$ \r\n",
    "\r\n"
   ]
  },
  {
   "cell_type": "markdown",
   "metadata": {
    "id": "J5SsLlnSFMeA"
   },
   "source": [
    "#### ***a)*** Genere una muestra de tamaño 1000 de esta distribución usando $\\lambda = 2$."
   ]
  },
  {
   "cell_type": "markdown",
   "metadata": {
    "id": "Rd4JQhT-FMeA"
   },
   "source": [
    "#### ***b)*** Escriba una función que calcule la log-verosimilitud, tal que dependa de los datos observados y el parámetro $\\lambda$. Grafique $\\ell(\\lambda)$ en función de $\\lambda$, dejando fijo el conjunto de datos los recién obtenidos."
   ]
  },
  {
   "cell_type": "markdown",
   "metadata": {
    "id": "kWvMh3cUFMeA"
   },
   "source": [
    "#### ***c)*** Estime el valor de $\\lambda$ que maximiza $\\ell(\\lambda)$. Puede usar algún solver del módulo de scipy \"scipy.optimize\". Repita el gráfico anterior, pero ahora marque el punto óptimo encontrado."
   ]
  },
  {
   "cell_type": "markdown",
   "metadata": {},
   "source": [
    "A continuación repita el proceso anterior, pero ahora para estimar la desviación estándar de una distribución normal."
   ]
  },
  {
   "cell_type": "markdown",
   "metadata": {},
   "source": [
    "#### ***d)*** Genere una muestra de tamaño 1000 de una distribución normal usando $\\mu = 15$ y  $\\sigma = 1,5$."
   ]
  },
  {
   "cell_type": "markdown",
   "metadata": {},
   "source": [
    "#### ***e)*** Escriba una función que calcule la log-verosimilitud en base a los datos y $\\sigma$."
   ]
  },
  {
   "cell_type": "markdown",
   "metadata": {},
   "source": [
    "#### ***e)*** Estime el valor de $\\sigma$ que maximiza $\\ell(\\sigma)$. Grafique $\\ell(\\sigma)$ marcando el punto óptimo encontrado."
   ]
  }
 ],
 "metadata": {
  "colab": {
   "collapsed_sections": [],
   "name": "lec3.ipynb",
   "provenance": []
  },
  "interpreter": {
   "hash": "86fe660c14581cc91ac61b0fb10b74193d8a886e17307eacd884d45310f05535"
  },
  "kernelspec": {
   "display_name": "Python 3",
   "language": "python",
   "name": "python3"
  },
  "language_info": {
   "codemirror_mode": {
    "name": "ipython",
    "version": 3
   },
   "file_extension": ".py",
   "mimetype": "text/x-python",
   "name": "python",
   "nbconvert_exporter": "python",
   "pygments_lexer": "ipython3",
   "version": "3.8.10"
  },
  "metadata": {
   "interpreter": {
    "hash": "86fe660c14581cc91ac61b0fb10b74193d8a886e17307eacd884d45310f05535"
   }
  }
 },
 "nbformat": 4,
 "nbformat_minor": 4
}
